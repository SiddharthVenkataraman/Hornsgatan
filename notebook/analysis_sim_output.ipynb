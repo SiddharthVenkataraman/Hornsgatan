{
 "cells": [
  {
   "cell_type": "markdown",
   "id": "bca770e1",
   "metadata": {},
   "source": [
    "compare calibration result and simulation result in the instant loop detector"
   ]
  },
  {
   "cell_type": "code",
   "execution_count": 109,
   "id": "3c464bd4",
   "metadata": {},
   "outputs": [
    {
     "name": "stdout",
     "output_type": "stream",
     "text": [
      "Current directory: /home/kaveh/projects/Hornsgatan\n",
      "Current directory: /home/kaveh/projects/Hornsgatan\n"
     ]
    }
   ],
   "source": [
    "import os\n",
    "print(\"Current directory:\", os.getcwd())\n",
    "HORNSGATAN_HOME = os.environ[\"HORNSGATAN_HOME\"]\n",
    "os.chdir(HORNSGATAN_HOME)\n",
    "print(\"Current directory:\", os.getcwd())\n",
    "\n",
    "#number = len(data)\n",
    "import pandas as pd\n",
    "date = '2020-01-02'\n",
    "detector = 'e2w_in'\n",
    "number = 100\n",
    "path  = \"data/sim_data/\"\n",
    "if number<1:\n",
    "    postfix = f\"{detector}_{date}\"\n",
    "else:\n",
    "    postfix = f\"{detector}_{date}_{number}\"\n",
    "\n",
    "instantInductionLoop_filename_xml = f\"{path}instantInductionLoop_{postfix}.xml\"\n"
   ]
  },
  {
   "cell_type": "code",
   "execution_count": 110,
   "id": "b2afbafc",
   "metadata": {},
   "outputs": [],
   "source": [
    "import xml.etree.ElementTree as ET\n",
    "\n",
    "# Parse the XML content of output_detectors.xml\n",
    "tree_output = ET.parse(instantInductionLoop_filename_xml)\n",
    "root_output = tree_output.getroot()\n",
    "\n",
    "# Extract data from the XML\n",
    "instant_out_data = []\n",
    "for instant_out in root_output.findall('instantOut'):\n",
    "    instant_out_data.append({\n",
    "        'id': instant_out.get('id'),\n",
    "        'time': float(instant_out.get('time')),\n",
    "        'state': instant_out.get('state'),\n",
    "        'vehID': instant_out.get('vehID'),\n",
    "        'speed': float(instant_out.get('speed')),  # Convert speed to km/h\n",
    "        'length': instant_out.get('length'),\n",
    "        'type': instant_out.get('type'),\n",
    "        'gap': instant_out.get('gap')\n",
    "    })\n",
    "\n",
    "# Convert to a DataFrame\n",
    "df_instant_out = pd.DataFrame(instant_out_data)\n",
    "df_instant_out = df_instant_out[df_instant_out[\"state\"]=='enter']\n",
    "# Save to CSV\n",
    "#output_csv_file_instant_out = 'output_instant_out.csv'\n",
    "#df_instant_out.to_csv(output_csv_file_instant_out, index=False)\n",
    "#print(f\"Data from 'output_detectors.xml' successfully converted to CSV and saved as '{output_csv_file_instant_out}'.\")\n"
   ]
  },
  {
   "cell_type": "code",
   "execution_count": 111,
   "id": "0cb30bef",
   "metadata": {},
   "outputs": [
    {
     "data": {
      "text/html": [
       "<div>\n",
       "<style scoped>\n",
       "    .dataframe tbody tr th:only-of-type {\n",
       "        vertical-align: middle;\n",
       "    }\n",
       "\n",
       "    .dataframe tbody tr th {\n",
       "        vertical-align: top;\n",
       "    }\n",
       "\n",
       "    .dataframe thead th {\n",
       "        text-align: right;\n",
       "    }\n",
       "</style>\n",
       "<table border=\"1\" class=\"dataframe\">\n",
       "  <thead>\n",
       "    <tr style=\"text-align: right;\">\n",
       "      <th></th>\n",
       "      <th>id</th>\n",
       "      <th>time</th>\n",
       "      <th>state</th>\n",
       "      <th>vehID</th>\n",
       "      <th>speed</th>\n",
       "      <th>length</th>\n",
       "      <th>type</th>\n",
       "      <th>gap</th>\n",
       "    </tr>\n",
       "  </thead>\n",
       "  <tbody>\n",
       "    <tr>\n",
       "      <th>0</th>\n",
       "      <td>e2w_in</td>\n",
       "      <td>1.577923e+09</td>\n",
       "      <td>enter</td>\n",
       "      <td>0_e2w_in</td>\n",
       "      <td>13.77</td>\n",
       "      <td>5.00</td>\n",
       "      <td>DEFAULT_VEHTYPE</td>\n",
       "      <td>None</td>\n",
       "    </tr>\n",
       "    <tr>\n",
       "      <th>3</th>\n",
       "      <td>e2w_in</td>\n",
       "      <td>1.577923e+09</td>\n",
       "      <td>enter</td>\n",
       "      <td>1_e2w_in</td>\n",
       "      <td>11.52</td>\n",
       "      <td>5.00</td>\n",
       "      <td>DEFAULT_VEHTYPE</td>\n",
       "      <td>3.61</td>\n",
       "    </tr>\n",
       "    <tr>\n",
       "      <th>6</th>\n",
       "      <td>e2w_in</td>\n",
       "      <td>1.577923e+09</td>\n",
       "      <td>enter</td>\n",
       "      <td>2_e2w_in</td>\n",
       "      <td>12.60</td>\n",
       "      <td>5.00</td>\n",
       "      <td>DEFAULT_VEHTYPE</td>\n",
       "      <td>1.94</td>\n",
       "    </tr>\n",
       "    <tr>\n",
       "      <th>8</th>\n",
       "      <td>e2w_in</td>\n",
       "      <td>1.577923e+09</td>\n",
       "      <td>enter</td>\n",
       "      <td>3_e2w_in</td>\n",
       "      <td>10.35</td>\n",
       "      <td>5.00</td>\n",
       "      <td>DEFAULT_VEHTYPE</td>\n",
       "      <td>2.99</td>\n",
       "    </tr>\n",
       "    <tr>\n",
       "      <th>10</th>\n",
       "      <td>e2w_in</td>\n",
       "      <td>1.577923e+09</td>\n",
       "      <td>enter</td>\n",
       "      <td>4_e2w_in</td>\n",
       "      <td>10.02</td>\n",
       "      <td>5.00</td>\n",
       "      <td>DEFAULT_VEHTYPE</td>\n",
       "      <td>1.42</td>\n",
       "    </tr>\n",
       "    <tr>\n",
       "      <th>...</th>\n",
       "      <td>...</td>\n",
       "      <td>...</td>\n",
       "      <td>...</td>\n",
       "      <td>...</td>\n",
       "      <td>...</td>\n",
       "      <td>...</td>\n",
       "      <td>...</td>\n",
       "      <td>...</td>\n",
       "    </tr>\n",
       "    <tr>\n",
       "      <th>240</th>\n",
       "      <td>e2w_in</td>\n",
       "      <td>1.577924e+09</td>\n",
       "      <td>enter</td>\n",
       "      <td>95_e2w_in</td>\n",
       "      <td>12.78</td>\n",
       "      <td>5.00</td>\n",
       "      <td>DEFAULT_VEHTYPE</td>\n",
       "      <td>16.81</td>\n",
       "    </tr>\n",
       "    <tr>\n",
       "      <th>242</th>\n",
       "      <td>e2w_in</td>\n",
       "      <td>1.577924e+09</td>\n",
       "      <td>enter</td>\n",
       "      <td>96_e2w_in</td>\n",
       "      <td>11.56</td>\n",
       "      <td>5.00</td>\n",
       "      <td>DEFAULT_VEHTYPE</td>\n",
       "      <td>2.04</td>\n",
       "    </tr>\n",
       "    <tr>\n",
       "      <th>245</th>\n",
       "      <td>e2w_in</td>\n",
       "      <td>1.577924e+09</td>\n",
       "      <td>enter</td>\n",
       "      <td>97_e2w_in</td>\n",
       "      <td>9.70</td>\n",
       "      <td>5.00</td>\n",
       "      <td>DEFAULT_VEHTYPE</td>\n",
       "      <td>26.16</td>\n",
       "    </tr>\n",
       "    <tr>\n",
       "      <th>247</th>\n",
       "      <td>e2w_in</td>\n",
       "      <td>1.577924e+09</td>\n",
       "      <td>enter</td>\n",
       "      <td>98_e2w_in</td>\n",
       "      <td>10.42</td>\n",
       "      <td>5.00</td>\n",
       "      <td>DEFAULT_VEHTYPE</td>\n",
       "      <td>32.41</td>\n",
       "    </tr>\n",
       "    <tr>\n",
       "      <th>249</th>\n",
       "      <td>e2w_in</td>\n",
       "      <td>1.577924e+09</td>\n",
       "      <td>enter</td>\n",
       "      <td>99_e2w_in</td>\n",
       "      <td>12.49</td>\n",
       "      <td>5.00</td>\n",
       "      <td>DEFAULT_VEHTYPE</td>\n",
       "      <td>10.77</td>\n",
       "    </tr>\n",
       "  </tbody>\n",
       "</table>\n",
       "<p>100 rows × 8 columns</p>\n",
       "</div>"
      ],
      "text/plain": [
       "         id          time  state      vehID  speed length             type  \\\n",
       "0    e2w_in  1.577923e+09  enter   0_e2w_in  13.77   5.00  DEFAULT_VEHTYPE   \n",
       "3    e2w_in  1.577923e+09  enter   1_e2w_in  11.52   5.00  DEFAULT_VEHTYPE   \n",
       "6    e2w_in  1.577923e+09  enter   2_e2w_in  12.60   5.00  DEFAULT_VEHTYPE   \n",
       "8    e2w_in  1.577923e+09  enter   3_e2w_in  10.35   5.00  DEFAULT_VEHTYPE   \n",
       "10   e2w_in  1.577923e+09  enter   4_e2w_in  10.02   5.00  DEFAULT_VEHTYPE   \n",
       "..      ...           ...    ...        ...    ...    ...              ...   \n",
       "240  e2w_in  1.577924e+09  enter  95_e2w_in  12.78   5.00  DEFAULT_VEHTYPE   \n",
       "242  e2w_in  1.577924e+09  enter  96_e2w_in  11.56   5.00  DEFAULT_VEHTYPE   \n",
       "245  e2w_in  1.577924e+09  enter  97_e2w_in   9.70   5.00  DEFAULT_VEHTYPE   \n",
       "247  e2w_in  1.577924e+09  enter  98_e2w_in  10.42   5.00  DEFAULT_VEHTYPE   \n",
       "249  e2w_in  1.577924e+09  enter  99_e2w_in  12.49   5.00  DEFAULT_VEHTYPE   \n",
       "\n",
       "       gap  \n",
       "0     None  \n",
       "3     3.61  \n",
       "6     1.94  \n",
       "8     2.99  \n",
       "10    1.42  \n",
       "..     ...  \n",
       "240  16.81  \n",
       "242   2.04  \n",
       "245  26.16  \n",
       "247  32.41  \n",
       "249  10.77  \n",
       "\n",
       "[100 rows x 8 columns]"
      ]
     },
     "execution_count": 111,
     "metadata": {},
     "output_type": "execute_result"
    }
   ],
   "source": [
    "df_instant_out"
   ]
  },
  {
   "cell_type": "code",
   "execution_count": 112,
   "id": "2509bb26",
   "metadata": {},
   "outputs": [
    {
     "data": {
      "text/html": [
       "<div>\n",
       "<style scoped>\n",
       "    .dataframe tbody tr th:only-of-type {\n",
       "        vertical-align: middle;\n",
       "    }\n",
       "\n",
       "    .dataframe tbody tr th {\n",
       "        vertical-align: top;\n",
       "    }\n",
       "\n",
       "    .dataframe thead th {\n",
       "        text-align: right;\n",
       "    }\n",
       "</style>\n",
       "<table border=\"1\" class=\"dataframe\">\n",
       "  <thead>\n",
       "    <tr style=\"text-align: right;\">\n",
       "      <th></th>\n",
       "      <th>vehID</th>\n",
       "      <th>time_detector_sim</th>\n",
       "      <th>speed_detector_sim</th>\n",
       "      <th>speed_factor</th>\n",
       "      <th>time_detector_real</th>\n",
       "      <th>depart</th>\n",
       "      <th>departSpeed</th>\n",
       "      <th>speed_detector_real</th>\n",
       "      <th>delta_time</th>\n",
       "      <th>delta_speed</th>\n",
       "    </tr>\n",
       "  </thead>\n",
       "  <tbody>\n",
       "    <tr>\n",
       "      <th>0</th>\n",
       "      <td>0_e2w_in</td>\n",
       "      <td>1.577923e+09</td>\n",
       "      <td>12.910773</td>\n",
       "      <td>1.70</td>\n",
       "      <td>1577923226</td>\n",
       "      <td>1577923209</td>\n",
       "      <td>14.1610</td>\n",
       "      <td>13.333333</td>\n",
       "      <td>-0.08</td>\n",
       "      <td>-0.422560</td>\n",
       "    </tr>\n",
       "    <tr>\n",
       "      <th>1</th>\n",
       "      <td>1_e2w_in</td>\n",
       "      <td>1.577923e+09</td>\n",
       "      <td>11.554964</td>\n",
       "      <td>1.45</td>\n",
       "      <td>1577923230</td>\n",
       "      <td>1577923210</td>\n",
       "      <td>12.0785</td>\n",
       "      <td>11.944444</td>\n",
       "      <td>0.15</td>\n",
       "      <td>-0.389481</td>\n",
       "    </tr>\n",
       "    <tr>\n",
       "      <th>2</th>\n",
       "      <td>2_e2w_in</td>\n",
       "      <td>1.577923e+09</td>\n",
       "      <td>10.546810</td>\n",
       "      <td>1.40</td>\n",
       "      <td>1577923233</td>\n",
       "      <td>1577923211</td>\n",
       "      <td>11.6620</td>\n",
       "      <td>8.888889</td>\n",
       "      <td>-0.46</td>\n",
       "      <td>1.657921</td>\n",
       "    </tr>\n",
       "    <tr>\n",
       "      <th>3</th>\n",
       "      <td>3_e2w_in</td>\n",
       "      <td>1.577923e+09</td>\n",
       "      <td>9.748955</td>\n",
       "      <td>1.30</td>\n",
       "      <td>1577923235</td>\n",
       "      <td>1577923213</td>\n",
       "      <td>10.8290</td>\n",
       "      <td>8.888889</td>\n",
       "      <td>0.96</td>\n",
       "      <td>0.860066</td>\n",
       "    </tr>\n",
       "    <tr>\n",
       "      <th>4</th>\n",
       "      <td>4_e2w_in</td>\n",
       "      <td>1.577923e+09</td>\n",
       "      <td>9.906650</td>\n",
       "      <td>1.30</td>\n",
       "      <td>1577923237</td>\n",
       "      <td>1577923215</td>\n",
       "      <td>10.8290</td>\n",
       "      <td>8.611111</td>\n",
       "      <td>0.81</td>\n",
       "      <td>1.295539</td>\n",
       "    </tr>\n",
       "  </tbody>\n",
       "</table>\n",
       "</div>"
      ],
      "text/plain": [
       "      vehID  time_detector_sim  speed_detector_sim  speed_factor  \\\n",
       "0  0_e2w_in       1.577923e+09           12.910773          1.70   \n",
       "1  1_e2w_in       1.577923e+09           11.554964          1.45   \n",
       "2  2_e2w_in       1.577923e+09           10.546810          1.40   \n",
       "3  3_e2w_in       1.577923e+09            9.748955          1.30   \n",
       "4  4_e2w_in       1.577923e+09            9.906650          1.30   \n",
       "\n",
       "   time_detector_real      depart  departSpeed  speed_detector_real  \\\n",
       "0          1577923226  1577923209      14.1610            13.333333   \n",
       "1          1577923230  1577923210      12.0785            11.944444   \n",
       "2          1577923233  1577923211      11.6620             8.888889   \n",
       "3          1577923235  1577923213      10.8290             8.888889   \n",
       "4          1577923237  1577923215      10.8290             8.611111   \n",
       "\n",
       "   delta_time  delta_speed  \n",
       "0       -0.08    -0.422560  \n",
       "1        0.15    -0.389481  \n",
       "2       -0.46     1.657921  \n",
       "3        0.96     0.860066  \n",
       "4        0.81     1.295539  "
      ]
     },
     "execution_count": 112,
     "metadata": {},
     "output_type": "execute_result"
    }
   ],
   "source": [
    "data = pd.read_csv(f'data/calibration_data/calibrated_data_{postfix}.csv')\n",
    "data.rename(columns={\"veh_id\": \"vehID\"}, inplace=True)\n",
    "data.head()"
   ]
  },
  {
   "cell_type": "code",
   "execution_count": 113,
   "id": "41ef4aa2",
   "metadata": {},
   "outputs": [
    {
     "name": "stdout",
     "output_type": "stream",
     "text": [
      "100 100\n"
     ]
    }
   ],
   "source": [
    "print(len(data), len(df_instant_out))"
   ]
  },
  {
   "cell_type": "markdown",
   "id": "26c7724a",
   "metadata": {},
   "source": [
    "compare time error and speed error in loop detector between simulation result and calibration result"
   ]
  },
  {
   "cell_type": "code",
   "execution_count": 114,
   "id": "78ee4572",
   "metadata": {},
   "outputs": [
    {
     "data": {
      "text/html": [
       "<div>\n",
       "<style scoped>\n",
       "    .dataframe tbody tr th:only-of-type {\n",
       "        vertical-align: middle;\n",
       "    }\n",
       "\n",
       "    .dataframe tbody tr th {\n",
       "        vertical-align: top;\n",
       "    }\n",
       "\n",
       "    .dataframe thead th {\n",
       "        text-align: right;\n",
       "    }\n",
       "</style>\n",
       "<table border=\"1\" class=\"dataframe\">\n",
       "  <thead>\n",
       "    <tr style=\"text-align: right;\">\n",
       "      <th></th>\n",
       "      <th>vehID</th>\n",
       "      <th>time</th>\n",
       "      <th>speed</th>\n",
       "      <th>time_detector_sim</th>\n",
       "      <th>speed_detector_sim</th>\n",
       "      <th>time_detector_real</th>\n",
       "      <th>speed_detector_real</th>\n",
       "    </tr>\n",
       "  </thead>\n",
       "  <tbody>\n",
       "    <tr>\n",
       "      <th>0</th>\n",
       "      <td>0_e2w_in</td>\n",
       "      <td>1.577923e+09</td>\n",
       "      <td>13.77</td>\n",
       "      <td>1.577923e+09</td>\n",
       "      <td>12.910773</td>\n",
       "      <td>1577923226</td>\n",
       "      <td>13.333333</td>\n",
       "    </tr>\n",
       "    <tr>\n",
       "      <th>1</th>\n",
       "      <td>1_e2w_in</td>\n",
       "      <td>1.577923e+09</td>\n",
       "      <td>11.52</td>\n",
       "      <td>1.577923e+09</td>\n",
       "      <td>11.554964</td>\n",
       "      <td>1577923230</td>\n",
       "      <td>11.944444</td>\n",
       "    </tr>\n",
       "    <tr>\n",
       "      <th>2</th>\n",
       "      <td>2_e2w_in</td>\n",
       "      <td>1.577923e+09</td>\n",
       "      <td>12.60</td>\n",
       "      <td>1.577923e+09</td>\n",
       "      <td>10.546810</td>\n",
       "      <td>1577923233</td>\n",
       "      <td>8.888889</td>\n",
       "    </tr>\n",
       "    <tr>\n",
       "      <th>3</th>\n",
       "      <td>3_e2w_in</td>\n",
       "      <td>1.577923e+09</td>\n",
       "      <td>10.35</td>\n",
       "      <td>1.577923e+09</td>\n",
       "      <td>9.748955</td>\n",
       "      <td>1577923235</td>\n",
       "      <td>8.888889</td>\n",
       "    </tr>\n",
       "    <tr>\n",
       "      <th>4</th>\n",
       "      <td>4_e2w_in</td>\n",
       "      <td>1.577923e+09</td>\n",
       "      <td>10.02</td>\n",
       "      <td>1.577923e+09</td>\n",
       "      <td>9.906650</td>\n",
       "      <td>1577923237</td>\n",
       "      <td>8.611111</td>\n",
       "    </tr>\n",
       "  </tbody>\n",
       "</table>\n",
       "</div>"
      ],
      "text/plain": [
       "      vehID          time  speed  time_detector_sim  speed_detector_sim  \\\n",
       "0  0_e2w_in  1.577923e+09  13.77       1.577923e+09           12.910773   \n",
       "1  1_e2w_in  1.577923e+09  11.52       1.577923e+09           11.554964   \n",
       "2  2_e2w_in  1.577923e+09  12.60       1.577923e+09           10.546810   \n",
       "3  3_e2w_in  1.577923e+09  10.35       1.577923e+09            9.748955   \n",
       "4  4_e2w_in  1.577923e+09  10.02       1.577923e+09            9.906650   \n",
       "\n",
       "   time_detector_real  speed_detector_real  \n",
       "0          1577923226            13.333333  \n",
       "1          1577923230            11.944444  \n",
       "2          1577923233             8.888889  \n",
       "3          1577923235             8.888889  \n",
       "4          1577923237             8.611111  "
      ]
     },
     "execution_count": 114,
     "metadata": {},
     "output_type": "execute_result"
    }
   ],
   "source": [
    "compare_df = pd.merge(df_instant_out[[\"vehID\",\"time\",\"speed\"]],\n",
    "            data[[\"vehID\",\"time_detector_sim\",\"speed_detector_sim\"\n",
    "                  ,\"time_detector_real\",\"speed_detector_real\"]],on=\"vehID\")\n",
    "compare_df.head()\n",
    "\n",
    "\n"
   ]
  },
  {
   "cell_type": "code",
   "execution_count": 115,
   "id": "444b9984",
   "metadata": {},
   "outputs": [],
   "source": [
    "#compare_df = compare_df.head(19)"
   ]
  },
  {
   "cell_type": "code",
   "execution_count": 116,
   "id": "efaee82a",
   "metadata": {},
   "outputs": [
    {
     "data": {
      "text/plain": [
       "np.float64(0.5681000018119812)"
      ]
     },
     "execution_count": 116,
     "metadata": {},
     "output_type": "execute_result"
    }
   ],
   "source": [
    "time_calib_error = compare_df[\"time_calib_error\"]=(compare_df[\"time_detector_sim\"]-compare_df[\"time_detector_real\"])\n",
    "abs(time_calib_error).mean()"
   ]
  },
  {
   "cell_type": "code",
   "execution_count": 117,
   "id": "06d79b59",
   "metadata": {},
   "outputs": [
    {
     "data": {
      "text/plain": [
       "np.float64(0.8515999817848205)"
      ]
     },
     "execution_count": 117,
     "metadata": {},
     "output_type": "execute_result"
    }
   ],
   "source": [
    "time_sim_error = compare_df[\"time_sim_error\"] = compare_df[\"time\"]-compare_df[\"time_detector_real\"]\n",
    "abs(time_sim_error).mean()"
   ]
  },
  {
   "cell_type": "code",
   "execution_count": 118,
   "id": "623c98a5",
   "metadata": {},
   "outputs": [
    {
     "data": {
      "text/plain": [
       "np.float64(0.5064887685821816)"
      ]
     },
     "execution_count": 118,
     "metadata": {},
     "output_type": "execute_result"
    }
   ],
   "source": [
    "speed_calib_error= compare_df[\"speed_calib_error\"] =compare_df[\"speed_detector_sim\"]-compare_df[\"speed_detector_real\"]\n",
    "abs(speed_calib_error).mean()"
   ]
  },
  {
   "cell_type": "code",
   "execution_count": 119,
   "id": "ce1e059c",
   "metadata": {},
   "outputs": [
    {
     "data": {
      "text/plain": [
       "np.float64(0.8428666666666668)"
      ]
     },
     "execution_count": 119,
     "metadata": {},
     "output_type": "execute_result"
    }
   ],
   "source": [
    "speed_sim_error=compare_df[\"speed_sim_error\"] =compare_df[\"speed\"]-compare_df[\"speed_detector_real\"]\n",
    "abs(speed_sim_error).mean()"
   ]
  },
  {
   "cell_type": "code",
   "execution_count": 120,
   "id": "86347ab5",
   "metadata": {},
   "outputs": [],
   "source": [
    "start = min(compare_df['time_sim_error'].min(),compare_df['time_calib_error'].min()) \n",
    "end = max(compare_df['time_sim_error'].max(), compare_df['time_calib_error'].max())\n"
   ]
  },
  {
   "cell_type": "code",
   "execution_count": 121,
   "id": "f719d7aa",
   "metadata": {},
   "outputs": [
    {
     "data": {
      "application/vnd.plotly.v1+json": {
       "config": {
        "plotlyServerURL": "https://plot.ly"
       },
       "data": [
        {
         "name": "time_sim_error --> MAE = 0.85",
         "opacity": 0.75,
         "type": "histogram",
         "x": {
          "bdata": "AAAAAKRwzb8AAAAAhevRvwAAAICPwu2/AAAAAKRw3T8AAAAAPQrXPwAAAICZmek/AAAAAFC4vr8AAAAA4Hq0vwAAAACF6+m/AAAAAPYo3L8AAAAAZmbWvwAAAABI4dq/AAAAAFyP4r8AAABA4Xr8PwAAAEDhegJAAAAAwMzMDEAAAAAQ16MSQAAAAMD1KBNAAAAAgD0KD0AAAACgmZkPQAAAAGC4HgdAAAAAAFK4zj8AAACAmZn1PwAAAAC4HtU/AAAAAD0K1z8AAACAFK77vwAAAADXowTAAAAAAOB6pD8AAAAAULievwAAAAD2KNw/AAAAAAAA6D8AAAAA4HqkvwAAAAD0KLw/AAAAABSu1z8AAAAA4HqkPwAAAIBmZu6/AAAAAHsU5j8AAACAR+HivwAAAIBwPeI/AAAAAFyP4j8AAADA9Sj8PwAAAACF6+k/AAAAAFyP6j8AAAAAUrjOvwAAAAAK1+M/AAAAABSu1z8AAAAA16PQPwAAAADgeoS/AAAAAEjh2j8AAAAAXI/qvwAAAAAzM+O/AAAAAHsU3r8AAACAPQrnPwAAAAA0M8O/AAAAgI/C7b8AAAAAkMLFPwAAAEAzM/s/AAAAwPUo+D8AAAAAmpnZPwAAAICZmf0/AAAAAITrsT8AAACA61HgvwAAAABQuJ6/AAAAADwKt78AAAAA9ijcvwAAAADhetQ/AAAAgBSu7z8AAAAAj8LVPwAAAMAehfs/AAAAAK5H6T8AAACAZmb6vwAAAAD2KOS/AAAAAHE92r8AAAAASOHaPwAAAACPwtU/AAAAAArX4z8AAACAwvXoPwAAAAAK19M/AAAAgML19D8AAADA9Sj0PwAAAECPwvE/AAAAwEfh/j8AAADAo3DxPwAAAACamck/AAAAANej4D8AAAAAw/XYvwAAAIDrUeC/AAAAAOB6tD8AAAAA4nrEvwAAAABcj+K/AAAAgEfh4j8AAAAAMzPjPwAAAIDrUeA/AAAAgEfh4r8AAACAFK7nvwAAAIDrUeC/AAAAAOB6tL8AAACAwvXgvwAAAAAzM+O/AAAAAM3M5D8=",
          "dtype": "f8"
         },
         "xbins": {
          "end": 4.789999961853027,
          "size": 1,
          "start": -4
         }
        },
        {
         "name": "time_calib_error  --> MAE = 0.57",
         "opacity": 0.75,
         "type": "histogram",
         "x": {
          "bdata": "AAAAAOB6tL8AAAAANDPDPwAAAACkcN2/AAAAAFK47j8AAAAAhevpPwAAAAApXPs/AAAAAIbrwb8AAAAA9ijcPwAAAABSuM6/AAAAAD4Kxz8AAAAAmpnZvwAAAADYo8C/AAAAAFyP4r8AAAAAPAq3PwAAAACamck/AAAAQI/C/T8AAAAAw/XYPwAAAAAUrtc/AAAAAAAAEMAAAADAzMz4PwAAAACamdm/AAAAAI/C1b8AAAAA4HqkPwAAAADNzOS/AAAAAClc778AAACgcD0CwAAAAEDhegbAAAAAAAAA0D8AAAAAMzPTPwAAAACkcM0/AAAAAFK4zj8AAAAAmpnJPwAAAACE67G/AAAAAFyP0j8AAAAAuB7VPwAAAADXo+C/AAAAALge1T8AAAAApHDlvwAAAAAAAOg/AAAAABSu1z8AAACAmZnpPwAAAAD2KMy/AAAAAEjh2r8AAACAR+HivwAAAABSuOa/AAAAgHA94j8AAAAAuB7VvwAAAADsUdi/AAAAAGZm1j8AAAAAzczkvwAAAABI4dq/AAAAAJiZub8AAAAAkMLFPwAAAACF69G/AAAAgHA96r8AAACAR+HiPwAAAAB7FPo/AAAAAFC4vr8AAAAAmJm5vwAAAMD1KPw/AAAAAIXr6b8AAACAwvXgvwAAAADiesS/AAAAAFC4nr8AAAAA9ijcvwAAAICPwuU/AAAAAClc5z8AAAAA9ijMPwAAAACamdk/AAAAAMP12L8AAACAwvX0vwAAAADXo9C/AAAAAGZm1r8AAAAASOHaPwAAAAD2KNw/AAAAAFK43j8AAADAzMzwPwAAAAD2KOQ/AAAAABSu178AAAAA4nrEvwAAAADsUcg/AAAAAOB6lL8AAAAArkfRvwAAAAAzM9M/AAAAAD0K1z8AAAAAw/XYvwAAAADXo+C/AAAAAOxRyD8AAAAA16PQPwAAAAAUrte/AAAAAK5H4T8AAAAAj8LVPwAAAAB7FPK/AAAAwB6F878AAACA61HwvwAAAAD2KMy/AAAAAJiZqT8AAAAA9ijkvwAAAAD2KNy/AAAAAHsU5j8=",
          "dtype": "f8"
         },
         "xbins": {
          "end": 4.789999961853027,
          "size": 1,
          "start": -4
         }
        }
       ],
       "layout": {
        "barmode": "group",
        "template": {
         "data": {
          "bar": [
           {
            "error_x": {
             "color": "#2a3f5f"
            },
            "error_y": {
             "color": "#2a3f5f"
            },
            "marker": {
             "line": {
              "color": "#E5ECF6",
              "width": 0.5
             },
             "pattern": {
              "fillmode": "overlay",
              "size": 10,
              "solidity": 0.2
             }
            },
            "type": "bar"
           }
          ],
          "barpolar": [
           {
            "marker": {
             "line": {
              "color": "#E5ECF6",
              "width": 0.5
             },
             "pattern": {
              "fillmode": "overlay",
              "size": 10,
              "solidity": 0.2
             }
            },
            "type": "barpolar"
           }
          ],
          "carpet": [
           {
            "aaxis": {
             "endlinecolor": "#2a3f5f",
             "gridcolor": "white",
             "linecolor": "white",
             "minorgridcolor": "white",
             "startlinecolor": "#2a3f5f"
            },
            "baxis": {
             "endlinecolor": "#2a3f5f",
             "gridcolor": "white",
             "linecolor": "white",
             "minorgridcolor": "white",
             "startlinecolor": "#2a3f5f"
            },
            "type": "carpet"
           }
          ],
          "choropleth": [
           {
            "colorbar": {
             "outlinewidth": 0,
             "ticks": ""
            },
            "type": "choropleth"
           }
          ],
          "contour": [
           {
            "colorbar": {
             "outlinewidth": 0,
             "ticks": ""
            },
            "colorscale": [
             [
              0,
              "#0d0887"
             ],
             [
              0.1111111111111111,
              "#46039f"
             ],
             [
              0.2222222222222222,
              "#7201a8"
             ],
             [
              0.3333333333333333,
              "#9c179e"
             ],
             [
              0.4444444444444444,
              "#bd3786"
             ],
             [
              0.5555555555555556,
              "#d8576b"
             ],
             [
              0.6666666666666666,
              "#ed7953"
             ],
             [
              0.7777777777777778,
              "#fb9f3a"
             ],
             [
              0.8888888888888888,
              "#fdca26"
             ],
             [
              1,
              "#f0f921"
             ]
            ],
            "type": "contour"
           }
          ],
          "contourcarpet": [
           {
            "colorbar": {
             "outlinewidth": 0,
             "ticks": ""
            },
            "type": "contourcarpet"
           }
          ],
          "heatmap": [
           {
            "colorbar": {
             "outlinewidth": 0,
             "ticks": ""
            },
            "colorscale": [
             [
              0,
              "#0d0887"
             ],
             [
              0.1111111111111111,
              "#46039f"
             ],
             [
              0.2222222222222222,
              "#7201a8"
             ],
             [
              0.3333333333333333,
              "#9c179e"
             ],
             [
              0.4444444444444444,
              "#bd3786"
             ],
             [
              0.5555555555555556,
              "#d8576b"
             ],
             [
              0.6666666666666666,
              "#ed7953"
             ],
             [
              0.7777777777777778,
              "#fb9f3a"
             ],
             [
              0.8888888888888888,
              "#fdca26"
             ],
             [
              1,
              "#f0f921"
             ]
            ],
            "type": "heatmap"
           }
          ],
          "histogram": [
           {
            "marker": {
             "pattern": {
              "fillmode": "overlay",
              "size": 10,
              "solidity": 0.2
             }
            },
            "type": "histogram"
           }
          ],
          "histogram2d": [
           {
            "colorbar": {
             "outlinewidth": 0,
             "ticks": ""
            },
            "colorscale": [
             [
              0,
              "#0d0887"
             ],
             [
              0.1111111111111111,
              "#46039f"
             ],
             [
              0.2222222222222222,
              "#7201a8"
             ],
             [
              0.3333333333333333,
              "#9c179e"
             ],
             [
              0.4444444444444444,
              "#bd3786"
             ],
             [
              0.5555555555555556,
              "#d8576b"
             ],
             [
              0.6666666666666666,
              "#ed7953"
             ],
             [
              0.7777777777777778,
              "#fb9f3a"
             ],
             [
              0.8888888888888888,
              "#fdca26"
             ],
             [
              1,
              "#f0f921"
             ]
            ],
            "type": "histogram2d"
           }
          ],
          "histogram2dcontour": [
           {
            "colorbar": {
             "outlinewidth": 0,
             "ticks": ""
            },
            "colorscale": [
             [
              0,
              "#0d0887"
             ],
             [
              0.1111111111111111,
              "#46039f"
             ],
             [
              0.2222222222222222,
              "#7201a8"
             ],
             [
              0.3333333333333333,
              "#9c179e"
             ],
             [
              0.4444444444444444,
              "#bd3786"
             ],
             [
              0.5555555555555556,
              "#d8576b"
             ],
             [
              0.6666666666666666,
              "#ed7953"
             ],
             [
              0.7777777777777778,
              "#fb9f3a"
             ],
             [
              0.8888888888888888,
              "#fdca26"
             ],
             [
              1,
              "#f0f921"
             ]
            ],
            "type": "histogram2dcontour"
           }
          ],
          "mesh3d": [
           {
            "colorbar": {
             "outlinewidth": 0,
             "ticks": ""
            },
            "type": "mesh3d"
           }
          ],
          "parcoords": [
           {
            "line": {
             "colorbar": {
              "outlinewidth": 0,
              "ticks": ""
             }
            },
            "type": "parcoords"
           }
          ],
          "pie": [
           {
            "automargin": true,
            "type": "pie"
           }
          ],
          "scatter": [
           {
            "fillpattern": {
             "fillmode": "overlay",
             "size": 10,
             "solidity": 0.2
            },
            "type": "scatter"
           }
          ],
          "scatter3d": [
           {
            "line": {
             "colorbar": {
              "outlinewidth": 0,
              "ticks": ""
             }
            },
            "marker": {
             "colorbar": {
              "outlinewidth": 0,
              "ticks": ""
             }
            },
            "type": "scatter3d"
           }
          ],
          "scattercarpet": [
           {
            "marker": {
             "colorbar": {
              "outlinewidth": 0,
              "ticks": ""
             }
            },
            "type": "scattercarpet"
           }
          ],
          "scattergeo": [
           {
            "marker": {
             "colorbar": {
              "outlinewidth": 0,
              "ticks": ""
             }
            },
            "type": "scattergeo"
           }
          ],
          "scattergl": [
           {
            "marker": {
             "colorbar": {
              "outlinewidth": 0,
              "ticks": ""
             }
            },
            "type": "scattergl"
           }
          ],
          "scattermap": [
           {
            "marker": {
             "colorbar": {
              "outlinewidth": 0,
              "ticks": ""
             }
            },
            "type": "scattermap"
           }
          ],
          "scattermapbox": [
           {
            "marker": {
             "colorbar": {
              "outlinewidth": 0,
              "ticks": ""
             }
            },
            "type": "scattermapbox"
           }
          ],
          "scatterpolar": [
           {
            "marker": {
             "colorbar": {
              "outlinewidth": 0,
              "ticks": ""
             }
            },
            "type": "scatterpolar"
           }
          ],
          "scatterpolargl": [
           {
            "marker": {
             "colorbar": {
              "outlinewidth": 0,
              "ticks": ""
             }
            },
            "type": "scatterpolargl"
           }
          ],
          "scatterternary": [
           {
            "marker": {
             "colorbar": {
              "outlinewidth": 0,
              "ticks": ""
             }
            },
            "type": "scatterternary"
           }
          ],
          "surface": [
           {
            "colorbar": {
             "outlinewidth": 0,
             "ticks": ""
            },
            "colorscale": [
             [
              0,
              "#0d0887"
             ],
             [
              0.1111111111111111,
              "#46039f"
             ],
             [
              0.2222222222222222,
              "#7201a8"
             ],
             [
              0.3333333333333333,
              "#9c179e"
             ],
             [
              0.4444444444444444,
              "#bd3786"
             ],
             [
              0.5555555555555556,
              "#d8576b"
             ],
             [
              0.6666666666666666,
              "#ed7953"
             ],
             [
              0.7777777777777778,
              "#fb9f3a"
             ],
             [
              0.8888888888888888,
              "#fdca26"
             ],
             [
              1,
              "#f0f921"
             ]
            ],
            "type": "surface"
           }
          ],
          "table": [
           {
            "cells": {
             "fill": {
              "color": "#EBF0F8"
             },
             "line": {
              "color": "white"
             }
            },
            "header": {
             "fill": {
              "color": "#C8D4E3"
             },
             "line": {
              "color": "white"
             }
            },
            "type": "table"
           }
          ]
         },
         "layout": {
          "annotationdefaults": {
           "arrowcolor": "#2a3f5f",
           "arrowhead": 0,
           "arrowwidth": 1
          },
          "autotypenumbers": "strict",
          "coloraxis": {
           "colorbar": {
            "outlinewidth": 0,
            "ticks": ""
           }
          },
          "colorscale": {
           "diverging": [
            [
             0,
             "#8e0152"
            ],
            [
             0.1,
             "#c51b7d"
            ],
            [
             0.2,
             "#de77ae"
            ],
            [
             0.3,
             "#f1b6da"
            ],
            [
             0.4,
             "#fde0ef"
            ],
            [
             0.5,
             "#f7f7f7"
            ],
            [
             0.6,
             "#e6f5d0"
            ],
            [
             0.7,
             "#b8e186"
            ],
            [
             0.8,
             "#7fbc41"
            ],
            [
             0.9,
             "#4d9221"
            ],
            [
             1,
             "#276419"
            ]
           ],
           "sequential": [
            [
             0,
             "#0d0887"
            ],
            [
             0.1111111111111111,
             "#46039f"
            ],
            [
             0.2222222222222222,
             "#7201a8"
            ],
            [
             0.3333333333333333,
             "#9c179e"
            ],
            [
             0.4444444444444444,
             "#bd3786"
            ],
            [
             0.5555555555555556,
             "#d8576b"
            ],
            [
             0.6666666666666666,
             "#ed7953"
            ],
            [
             0.7777777777777778,
             "#fb9f3a"
            ],
            [
             0.8888888888888888,
             "#fdca26"
            ],
            [
             1,
             "#f0f921"
            ]
           ],
           "sequentialminus": [
            [
             0,
             "#0d0887"
            ],
            [
             0.1111111111111111,
             "#46039f"
            ],
            [
             0.2222222222222222,
             "#7201a8"
            ],
            [
             0.3333333333333333,
             "#9c179e"
            ],
            [
             0.4444444444444444,
             "#bd3786"
            ],
            [
             0.5555555555555556,
             "#d8576b"
            ],
            [
             0.6666666666666666,
             "#ed7953"
            ],
            [
             0.7777777777777778,
             "#fb9f3a"
            ],
            [
             0.8888888888888888,
             "#fdca26"
            ],
            [
             1,
             "#f0f921"
            ]
           ]
          },
          "colorway": [
           "#636efa",
           "#EF553B",
           "#00cc96",
           "#ab63fa",
           "#FFA15A",
           "#19d3f3",
           "#FF6692",
           "#B6E880",
           "#FF97FF",
           "#FECB52"
          ],
          "font": {
           "color": "#2a3f5f"
          },
          "geo": {
           "bgcolor": "white",
           "lakecolor": "white",
           "landcolor": "#E5ECF6",
           "showlakes": true,
           "showland": true,
           "subunitcolor": "white"
          },
          "hoverlabel": {
           "align": "left"
          },
          "hovermode": "closest",
          "mapbox": {
           "style": "light"
          },
          "paper_bgcolor": "white",
          "plot_bgcolor": "#E5ECF6",
          "polar": {
           "angularaxis": {
            "gridcolor": "white",
            "linecolor": "white",
            "ticks": ""
           },
           "bgcolor": "#E5ECF6",
           "radialaxis": {
            "gridcolor": "white",
            "linecolor": "white",
            "ticks": ""
           }
          },
          "scene": {
           "xaxis": {
            "backgroundcolor": "#E5ECF6",
            "gridcolor": "white",
            "gridwidth": 2,
            "linecolor": "white",
            "showbackground": true,
            "ticks": "",
            "zerolinecolor": "white"
           },
           "yaxis": {
            "backgroundcolor": "#E5ECF6",
            "gridcolor": "white",
            "gridwidth": 2,
            "linecolor": "white",
            "showbackground": true,
            "ticks": "",
            "zerolinecolor": "white"
           },
           "zaxis": {
            "backgroundcolor": "#E5ECF6",
            "gridcolor": "white",
            "gridwidth": 2,
            "linecolor": "white",
            "showbackground": true,
            "ticks": "",
            "zerolinecolor": "white"
           }
          },
          "shapedefaults": {
           "line": {
            "color": "#2a3f5f"
           }
          },
          "ternary": {
           "aaxis": {
            "gridcolor": "white",
            "linecolor": "white",
            "ticks": ""
           },
           "baxis": {
            "gridcolor": "white",
            "linecolor": "white",
            "ticks": ""
           },
           "bgcolor": "#E5ECF6",
           "caxis": {
            "gridcolor": "white",
            "linecolor": "white",
            "ticks": ""
           }
          },
          "title": {
           "x": 0.05
          },
          "xaxis": {
           "automargin": true,
           "gridcolor": "white",
           "linecolor": "white",
           "ticks": "",
           "title": {
            "standoff": 15
           },
           "zerolinecolor": "white",
           "zerolinewidth": 2
          },
          "yaxis": {
           "automargin": true,
           "gridcolor": "white",
           "linecolor": "white",
           "ticks": "",
           "title": {
            "standoff": 15
           },
           "zerolinecolor": "white",
           "zerolinewidth": 2
          }
         }
        },
        "title": {
         "text": "error  =  simulate  -  real      ------------         e2w_in_2020-01-02_100"
        },
        "xaxis": {
         "title": {
          "text": "time error (s)"
         }
        },
        "yaxis": {
         "title": {
          "text": "Count"
         }
        }
       }
      }
     },
     "metadata": {},
     "output_type": "display_data"
    }
   ],
   "source": [
    "import plotly.graph_objects as go\n",
    "\n",
    "fig = go.Figure()\n",
    "\n",
    "xbins=dict(\n",
    "        start=start,  # Bin start\n",
    "        end=end,    # Bin end\n",
    "        size=1    # Bin size (width of each bin)\n",
    "    )\n",
    "sim_MAE = round(abs(compare_df['time_sim_error']).mean(),2)\n",
    "calib_MAE = round(abs(compare_df['time_calib_error']).mean(),2)\n",
    "\n",
    "fig.add_trace(go.Histogram(x=compare_df['time_sim_error'], name=f\"time_sim_error --> MAE = {sim_MAE}\", opacity=0.75, xbins=xbins))\n",
    "fig.add_trace(go.Histogram(x=compare_df['time_calib_error'], name=f\"time_calib_error  --> MAE = {calib_MAE}\", opacity=0.75, xbins=xbins))\n",
    "\n",
    "fig.update_layout(\n",
    "    barmode='group',  # Use 'overlay' if you want stacked look\n",
    "    xaxis_title='time error (s)',\n",
    "    yaxis_title='Count',\n",
    "    title=f\"error  =  simulate  -  real      ------------         {postfix}\"\n",
    ")\n",
    "\n",
    "fig.show()\n",
    "fig.write_html(f\"diagram/hist_time_error_{postfix}.html\")"
   ]
  },
  {
   "cell_type": "code",
   "execution_count": 122,
   "id": "d0d6ad65",
   "metadata": {},
   "outputs": [
    {
     "name": "stdout",
     "output_type": "stream",
     "text": [
      "-2.5799999237060547 4.789999961853027\n",
      "-4.0 1.8599998950958252\n"
     ]
    }
   ],
   "source": [
    "print(compare_df['time_sim_error'].min(), compare_df['time_sim_error'].max())\n",
    "print(compare_df['time_calib_error'].min(), compare_df['time_calib_error'].max())"
   ]
  },
  {
   "cell_type": "code",
   "execution_count": 123,
   "id": "807ab781",
   "metadata": {},
   "outputs": [
    {
     "name": "stdout",
     "output_type": "stream",
     "text": [
      "-1.761111111111111 3.7111111111111104\n",
      "-1.2687288092974196 2.4175407641412843\n"
     ]
    }
   ],
   "source": [
    "print(compare_df['speed_sim_error'].min(), compare_df['speed_sim_error'].max())\n",
    "print(compare_df['speed_calib_error'].min(), compare_df['speed_calib_error'].max())"
   ]
  },
  {
   "cell_type": "code",
   "execution_count": 124,
   "id": "248d0f3f",
   "metadata": {},
   "outputs": [],
   "source": [
    "start = min(compare_df['speed_sim_error'].min(),compare_df['speed_calib_error'].min()) \n",
    "end = max(compare_df['speed_sim_error'].max(), compare_df['speed_calib_error'].max())"
   ]
  },
  {
   "cell_type": "code",
   "execution_count": 125,
   "id": "01a4e795",
   "metadata": {},
   "outputs": [
    {
     "data": {
      "application/vnd.plotly.v1+json": {
       "config": {
        "plotlyServerURL": "https://plot.ly"
       },
       "data": [
        {
         "name": "speed_sim_error --> MAE = 0.84",
         "opacity": 0.75,
         "type": "histogram",
         "x": {
          "bdata": "AIwlv1jy2z/g5fYHGSrbvwRbsAVbsA1ACLZgC7Zg9z/gm1cTz4r2P9QGOm2g0wJAABkqO0xd3j8wtz/IUNn9P9gGOm2g0+a/IJ4VjQR8wz/wSZ/0SZ/kP1D6pE/6pO8/AK1oJOCbx7/Ygi3Ygi38v8izopGAb+Y/oLrc/iBD1b9gh6nL7Q/qP4Cx5BdLfvk/hC3Ygi3Y8j9ACfjm1cTDP0C/WPKLJc8/AEnAN68mrj9AIwHfvJr0vxC2YAu2YOO/aH+QobLD9L+wu7u7u7vrvyDHcRzHceQ/WPqkT/qk+z8w2IIt2IL5v0Bdbn+QocI/sGALtmAL8r+QgG9eTTzjP5CIiIiIiOA/4GHqcvuD3D/cgi3Ygi0AQEjIUNlh6v4/sP1BhsoO47+ALdiCLdjSv5CAb15NPNu/qOwwdbn9B0BQ2WHqcvv/P4AUrkfheuw/AJ020GkDrT/gkz7pkz7Zv8gOU5fbH/i/oBZswRZs0b/gUNlh6nLjP1D6pE/6pO+/QERERERE7L+gw9Tl9gfhv2A7TF1uf9A/ABARERERkT+YLrc/yFD1v2DRSMA3r+6/MJ4VjQR89z/wcvuDDJUBQNAnfdInffo/YI/C9Shc/z8A6nL7gwylP4A9CtejcM0/8M2riWdF9z9gyS+W/GLZP+AXS36x5Oe/gJChssPU9b8A9Emf9Em/v0DQaQOdNsA/uP1BhsoO6z+gDXTaQKflv8D0SZ/0Sb+/AG9eTTwrqr/QzMzMzMzwP0C4HoXrUci/sP1BhsoO6z+w/UGGyg7rPwDXo3A9Cte/cPuDDJUd5r9AZYepy+3nv3BeTTwrGuk/GM+KRgK+8b+g2x9kqOzQPwBChsoOU7e/iKnL7Q8y9D+Q/GLJL5b0P8AGOm2g09Y/ABhLfrHktz/A/UGGyg7Dv0CO4ziO49i/RIbKDlOXAUAAO0xdbn+wP0BVVVVVVcU/MDMzMzMz67/A5tXEs6LBv6Autz/IUOG/wKGyw9Tl1j+g9Emf9Enzv0C3P8hQ2eE/IJ4VjQR887/QJ33SJ33ivwB882riWcG/YPKLJb9Y6j8=",
          "dtype": "f8"
         },
         "xbins": {
          "end": 3.7111111111111104,
          "size": 1,
          "start": -1.761111111111111
         }
        },
        {
         "name": "speed_calib_error --> MAE = 0.51",
         "opacity": 0.75,
         "type": "histogram",
         "x": {
          "bdata": "ICbYgDoL279A6AS3P+3Yv2jx14rYhvo/QBzUOKmF6z9A1ROzhrr0PzilcuvL5v0/AJlz0/7kpz9APzK79oDuPyhrxQ3/S+q/8GB8xuxJ1D/ATAMvUYrCPwCF1Fwfe8o/gNUZju4j0r/QkCFdMsrWP9jSZOP9QuM/QDogg0iO4j/A0QsjNrO7v2gdMw9Eh+8/2CA0bkff6j+4GfN66/X2PwBEBPe4I8w/QEmmJ66B4L9ArryfvUbOP8Dgh8uvo8G/wGkA5bs04z+QCymBZirsv/D03XU6yeY/AIDVsRV9nb+YznaUtkz0v0CtGYGtIcY/AG6z1Ikwtr8Ax2JgysSlP4B/Y2PGNMS/gFwzfjcLsj/AbijZeeXXvwAWXE/E35c/gMfG8hD/zD8gX4YW2DjIv9C5Ax5lZtm/jN61nB9XA0AgUHg3/E3/P3jpZl8qbPA/0MEcmSU/4D8orQtrHOnwv0ChW5v+k+m/QLbAEGim2z+gQ/gQbvPZPwASN/b03Ka/ADanSW2axz/AWCAjWkHEP4DggFsKhNg/wJb1iiH6wz/A1mFsH1fNvwBYDFjR1M0/YPD9FLM33L8AwVhXEX/1PzCTVfoVYu0/AKo5f0Rw+j9gjGuUuHzZP6DAiqncP9w/wIUzMWvr6L/gtgymnFnUPwDgyLuqts4/AExqhTri5r8ASE5nT5ysvyCW/D+Q/sa/oFfzhuC02j9gZOnawODFvwDpAGp/KMQ/YL4tuWwy1r9gjRcxdTnTPwD0PU1uA88/oK1BWZNU2D8gBjOv6EvRv4C2uDN2J7e/gCVOWfKd5b8AkR+qQOO2v7gZcx4i9PY/YDqAA+KI2r9AaZ0PjXXBP2AcINQWTNa/8E4BOHXj7z+AYdf5qxbdvwCxRb6HpKS/AHAPKskLcT9gIiV61mXlP+DopD1Bdtu/QCsxLslj0L+ArUFUbi6xP4BGbyxjJr0/AABAopc+zz8A6UQhVAbKPwBeJ+b258I/UHcUySMp9j/AqxlWNLnrv2A7EgJRFde/APEibMum0z+A0gR6n3K0vwC7T7v0rtg/AC5rdOekxj8=",
          "dtype": "f8"
         },
         "xbins": {
          "end": 3.7111111111111104,
          "size": 1,
          "start": -1.761111111111111
         }
        }
       ],
       "layout": {
        "barmode": "group",
        "template": {
         "data": {
          "bar": [
           {
            "error_x": {
             "color": "#2a3f5f"
            },
            "error_y": {
             "color": "#2a3f5f"
            },
            "marker": {
             "line": {
              "color": "#E5ECF6",
              "width": 0.5
             },
             "pattern": {
              "fillmode": "overlay",
              "size": 10,
              "solidity": 0.2
             }
            },
            "type": "bar"
           }
          ],
          "barpolar": [
           {
            "marker": {
             "line": {
              "color": "#E5ECF6",
              "width": 0.5
             },
             "pattern": {
              "fillmode": "overlay",
              "size": 10,
              "solidity": 0.2
             }
            },
            "type": "barpolar"
           }
          ],
          "carpet": [
           {
            "aaxis": {
             "endlinecolor": "#2a3f5f",
             "gridcolor": "white",
             "linecolor": "white",
             "minorgridcolor": "white",
             "startlinecolor": "#2a3f5f"
            },
            "baxis": {
             "endlinecolor": "#2a3f5f",
             "gridcolor": "white",
             "linecolor": "white",
             "minorgridcolor": "white",
             "startlinecolor": "#2a3f5f"
            },
            "type": "carpet"
           }
          ],
          "choropleth": [
           {
            "colorbar": {
             "outlinewidth": 0,
             "ticks": ""
            },
            "type": "choropleth"
           }
          ],
          "contour": [
           {
            "colorbar": {
             "outlinewidth": 0,
             "ticks": ""
            },
            "colorscale": [
             [
              0,
              "#0d0887"
             ],
             [
              0.1111111111111111,
              "#46039f"
             ],
             [
              0.2222222222222222,
              "#7201a8"
             ],
             [
              0.3333333333333333,
              "#9c179e"
             ],
             [
              0.4444444444444444,
              "#bd3786"
             ],
             [
              0.5555555555555556,
              "#d8576b"
             ],
             [
              0.6666666666666666,
              "#ed7953"
             ],
             [
              0.7777777777777778,
              "#fb9f3a"
             ],
             [
              0.8888888888888888,
              "#fdca26"
             ],
             [
              1,
              "#f0f921"
             ]
            ],
            "type": "contour"
           }
          ],
          "contourcarpet": [
           {
            "colorbar": {
             "outlinewidth": 0,
             "ticks": ""
            },
            "type": "contourcarpet"
           }
          ],
          "heatmap": [
           {
            "colorbar": {
             "outlinewidth": 0,
             "ticks": ""
            },
            "colorscale": [
             [
              0,
              "#0d0887"
             ],
             [
              0.1111111111111111,
              "#46039f"
             ],
             [
              0.2222222222222222,
              "#7201a8"
             ],
             [
              0.3333333333333333,
              "#9c179e"
             ],
             [
              0.4444444444444444,
              "#bd3786"
             ],
             [
              0.5555555555555556,
              "#d8576b"
             ],
             [
              0.6666666666666666,
              "#ed7953"
             ],
             [
              0.7777777777777778,
              "#fb9f3a"
             ],
             [
              0.8888888888888888,
              "#fdca26"
             ],
             [
              1,
              "#f0f921"
             ]
            ],
            "type": "heatmap"
           }
          ],
          "histogram": [
           {
            "marker": {
             "pattern": {
              "fillmode": "overlay",
              "size": 10,
              "solidity": 0.2
             }
            },
            "type": "histogram"
           }
          ],
          "histogram2d": [
           {
            "colorbar": {
             "outlinewidth": 0,
             "ticks": ""
            },
            "colorscale": [
             [
              0,
              "#0d0887"
             ],
             [
              0.1111111111111111,
              "#46039f"
             ],
             [
              0.2222222222222222,
              "#7201a8"
             ],
             [
              0.3333333333333333,
              "#9c179e"
             ],
             [
              0.4444444444444444,
              "#bd3786"
             ],
             [
              0.5555555555555556,
              "#d8576b"
             ],
             [
              0.6666666666666666,
              "#ed7953"
             ],
             [
              0.7777777777777778,
              "#fb9f3a"
             ],
             [
              0.8888888888888888,
              "#fdca26"
             ],
             [
              1,
              "#f0f921"
             ]
            ],
            "type": "histogram2d"
           }
          ],
          "histogram2dcontour": [
           {
            "colorbar": {
             "outlinewidth": 0,
             "ticks": ""
            },
            "colorscale": [
             [
              0,
              "#0d0887"
             ],
             [
              0.1111111111111111,
              "#46039f"
             ],
             [
              0.2222222222222222,
              "#7201a8"
             ],
             [
              0.3333333333333333,
              "#9c179e"
             ],
             [
              0.4444444444444444,
              "#bd3786"
             ],
             [
              0.5555555555555556,
              "#d8576b"
             ],
             [
              0.6666666666666666,
              "#ed7953"
             ],
             [
              0.7777777777777778,
              "#fb9f3a"
             ],
             [
              0.8888888888888888,
              "#fdca26"
             ],
             [
              1,
              "#f0f921"
             ]
            ],
            "type": "histogram2dcontour"
           }
          ],
          "mesh3d": [
           {
            "colorbar": {
             "outlinewidth": 0,
             "ticks": ""
            },
            "type": "mesh3d"
           }
          ],
          "parcoords": [
           {
            "line": {
             "colorbar": {
              "outlinewidth": 0,
              "ticks": ""
             }
            },
            "type": "parcoords"
           }
          ],
          "pie": [
           {
            "automargin": true,
            "type": "pie"
           }
          ],
          "scatter": [
           {
            "fillpattern": {
             "fillmode": "overlay",
             "size": 10,
             "solidity": 0.2
            },
            "type": "scatter"
           }
          ],
          "scatter3d": [
           {
            "line": {
             "colorbar": {
              "outlinewidth": 0,
              "ticks": ""
             }
            },
            "marker": {
             "colorbar": {
              "outlinewidth": 0,
              "ticks": ""
             }
            },
            "type": "scatter3d"
           }
          ],
          "scattercarpet": [
           {
            "marker": {
             "colorbar": {
              "outlinewidth": 0,
              "ticks": ""
             }
            },
            "type": "scattercarpet"
           }
          ],
          "scattergeo": [
           {
            "marker": {
             "colorbar": {
              "outlinewidth": 0,
              "ticks": ""
             }
            },
            "type": "scattergeo"
           }
          ],
          "scattergl": [
           {
            "marker": {
             "colorbar": {
              "outlinewidth": 0,
              "ticks": ""
             }
            },
            "type": "scattergl"
           }
          ],
          "scattermap": [
           {
            "marker": {
             "colorbar": {
              "outlinewidth": 0,
              "ticks": ""
             }
            },
            "type": "scattermap"
           }
          ],
          "scattermapbox": [
           {
            "marker": {
             "colorbar": {
              "outlinewidth": 0,
              "ticks": ""
             }
            },
            "type": "scattermapbox"
           }
          ],
          "scatterpolar": [
           {
            "marker": {
             "colorbar": {
              "outlinewidth": 0,
              "ticks": ""
             }
            },
            "type": "scatterpolar"
           }
          ],
          "scatterpolargl": [
           {
            "marker": {
             "colorbar": {
              "outlinewidth": 0,
              "ticks": ""
             }
            },
            "type": "scatterpolargl"
           }
          ],
          "scatterternary": [
           {
            "marker": {
             "colorbar": {
              "outlinewidth": 0,
              "ticks": ""
             }
            },
            "type": "scatterternary"
           }
          ],
          "surface": [
           {
            "colorbar": {
             "outlinewidth": 0,
             "ticks": ""
            },
            "colorscale": [
             [
              0,
              "#0d0887"
             ],
             [
              0.1111111111111111,
              "#46039f"
             ],
             [
              0.2222222222222222,
              "#7201a8"
             ],
             [
              0.3333333333333333,
              "#9c179e"
             ],
             [
              0.4444444444444444,
              "#bd3786"
             ],
             [
              0.5555555555555556,
              "#d8576b"
             ],
             [
              0.6666666666666666,
              "#ed7953"
             ],
             [
              0.7777777777777778,
              "#fb9f3a"
             ],
             [
              0.8888888888888888,
              "#fdca26"
             ],
             [
              1,
              "#f0f921"
             ]
            ],
            "type": "surface"
           }
          ],
          "table": [
           {
            "cells": {
             "fill": {
              "color": "#EBF0F8"
             },
             "line": {
              "color": "white"
             }
            },
            "header": {
             "fill": {
              "color": "#C8D4E3"
             },
             "line": {
              "color": "white"
             }
            },
            "type": "table"
           }
          ]
         },
         "layout": {
          "annotationdefaults": {
           "arrowcolor": "#2a3f5f",
           "arrowhead": 0,
           "arrowwidth": 1
          },
          "autotypenumbers": "strict",
          "coloraxis": {
           "colorbar": {
            "outlinewidth": 0,
            "ticks": ""
           }
          },
          "colorscale": {
           "diverging": [
            [
             0,
             "#8e0152"
            ],
            [
             0.1,
             "#c51b7d"
            ],
            [
             0.2,
             "#de77ae"
            ],
            [
             0.3,
             "#f1b6da"
            ],
            [
             0.4,
             "#fde0ef"
            ],
            [
             0.5,
             "#f7f7f7"
            ],
            [
             0.6,
             "#e6f5d0"
            ],
            [
             0.7,
             "#b8e186"
            ],
            [
             0.8,
             "#7fbc41"
            ],
            [
             0.9,
             "#4d9221"
            ],
            [
             1,
             "#276419"
            ]
           ],
           "sequential": [
            [
             0,
             "#0d0887"
            ],
            [
             0.1111111111111111,
             "#46039f"
            ],
            [
             0.2222222222222222,
             "#7201a8"
            ],
            [
             0.3333333333333333,
             "#9c179e"
            ],
            [
             0.4444444444444444,
             "#bd3786"
            ],
            [
             0.5555555555555556,
             "#d8576b"
            ],
            [
             0.6666666666666666,
             "#ed7953"
            ],
            [
             0.7777777777777778,
             "#fb9f3a"
            ],
            [
             0.8888888888888888,
             "#fdca26"
            ],
            [
             1,
             "#f0f921"
            ]
           ],
           "sequentialminus": [
            [
             0,
             "#0d0887"
            ],
            [
             0.1111111111111111,
             "#46039f"
            ],
            [
             0.2222222222222222,
             "#7201a8"
            ],
            [
             0.3333333333333333,
             "#9c179e"
            ],
            [
             0.4444444444444444,
             "#bd3786"
            ],
            [
             0.5555555555555556,
             "#d8576b"
            ],
            [
             0.6666666666666666,
             "#ed7953"
            ],
            [
             0.7777777777777778,
             "#fb9f3a"
            ],
            [
             0.8888888888888888,
             "#fdca26"
            ],
            [
             1,
             "#f0f921"
            ]
           ]
          },
          "colorway": [
           "#636efa",
           "#EF553B",
           "#00cc96",
           "#ab63fa",
           "#FFA15A",
           "#19d3f3",
           "#FF6692",
           "#B6E880",
           "#FF97FF",
           "#FECB52"
          ],
          "font": {
           "color": "#2a3f5f"
          },
          "geo": {
           "bgcolor": "white",
           "lakecolor": "white",
           "landcolor": "#E5ECF6",
           "showlakes": true,
           "showland": true,
           "subunitcolor": "white"
          },
          "hoverlabel": {
           "align": "left"
          },
          "hovermode": "closest",
          "mapbox": {
           "style": "light"
          },
          "paper_bgcolor": "white",
          "plot_bgcolor": "#E5ECF6",
          "polar": {
           "angularaxis": {
            "gridcolor": "white",
            "linecolor": "white",
            "ticks": ""
           },
           "bgcolor": "#E5ECF6",
           "radialaxis": {
            "gridcolor": "white",
            "linecolor": "white",
            "ticks": ""
           }
          },
          "scene": {
           "xaxis": {
            "backgroundcolor": "#E5ECF6",
            "gridcolor": "white",
            "gridwidth": 2,
            "linecolor": "white",
            "showbackground": true,
            "ticks": "",
            "zerolinecolor": "white"
           },
           "yaxis": {
            "backgroundcolor": "#E5ECF6",
            "gridcolor": "white",
            "gridwidth": 2,
            "linecolor": "white",
            "showbackground": true,
            "ticks": "",
            "zerolinecolor": "white"
           },
           "zaxis": {
            "backgroundcolor": "#E5ECF6",
            "gridcolor": "white",
            "gridwidth": 2,
            "linecolor": "white",
            "showbackground": true,
            "ticks": "",
            "zerolinecolor": "white"
           }
          },
          "shapedefaults": {
           "line": {
            "color": "#2a3f5f"
           }
          },
          "ternary": {
           "aaxis": {
            "gridcolor": "white",
            "linecolor": "white",
            "ticks": ""
           },
           "baxis": {
            "gridcolor": "white",
            "linecolor": "white",
            "ticks": ""
           },
           "bgcolor": "#E5ECF6",
           "caxis": {
            "gridcolor": "white",
            "linecolor": "white",
            "ticks": ""
           }
          },
          "title": {
           "x": 0.05
          },
          "xaxis": {
           "automargin": true,
           "gridcolor": "white",
           "linecolor": "white",
           "ticks": "",
           "title": {
            "standoff": 15
           },
           "zerolinecolor": "white",
           "zerolinewidth": 2
          },
          "yaxis": {
           "automargin": true,
           "gridcolor": "white",
           "linecolor": "white",
           "ticks": "",
           "title": {
            "standoff": 15
           },
           "zerolinecolor": "white",
           "zerolinewidth": 2
          }
         }
        },
        "title": {
         "text": "error  =  simulate  -  real      ------------         e2w_in_2020-01-02_100"
        },
        "xaxis": {
         "title": {
          "text": "Value"
         }
        },
        "yaxis": {
         "title": {
          "text": "Count"
         }
        }
       }
      }
     },
     "metadata": {},
     "output_type": "display_data"
    }
   ],
   "source": [
    "import plotly.graph_objects as go\n",
    "\n",
    "fig = go.Figure()\n",
    "\n",
    "xbins=dict(\n",
    "        start=start,  # Bin start\n",
    "        end=end,    # Bin end\n",
    "        size=1    # Bin size (width of each bin)\n",
    "    )\n",
    "sim_MAE = round(abs(compare_df['speed_sim_error']).mean(),2)\n",
    "calib_MAE = round(abs(compare_df['speed_calib_error']).mean(),2)\n",
    "fig.add_trace(go.Histogram(x=compare_df['speed_sim_error'], name=f\"speed_sim_error --> MAE = {sim_MAE}\", opacity=0.75, xbins=xbins))\n",
    "fig.add_trace(go.Histogram(x=compare_df['speed_calib_error'], name=f\"speed_calib_error --> MAE = {calib_MAE}\", opacity=0.75, xbins=xbins))\n",
    "\n",
    "fig.update_layout(\n",
    "    barmode='group',  # Use 'overlay' if you want stacked look\n",
    "    xaxis_title='Value',\n",
    "    yaxis_title='Count',\n",
    "    title=f\"error  =  simulate  -  real      ------------         {postfix}\"\n",
    ")\n",
    "\n",
    "fig.show()\n",
    "fig.write_html(f\"diagram/hist_speed_error_{postfix}.html\")"
   ]
  },
  {
   "cell_type": "code",
   "execution_count": 126,
   "id": "69f61ca7",
   "metadata": {},
   "outputs": [],
   "source": [
    "#import os\n",
    "#os.environ[\"HORNSGATAN_HOME\"]\n"
   ]
  }
 ],
 "metadata": {
  "kernelspec": {
   "display_name": ".venv",
   "language": "python",
   "name": "python3"
  },
  "language_info": {
   "codemirror_mode": {
    "name": "ipython",
    "version": 3
   },
   "file_extension": ".py",
   "mimetype": "text/x-python",
   "name": "python",
   "nbconvert_exporter": "python",
   "pygments_lexer": "ipython3",
   "version": "3.12.3"
  }
 },
 "nbformat": 4,
 "nbformat_minor": 5
}
