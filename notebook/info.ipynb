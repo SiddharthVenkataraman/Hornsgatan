{
 "cells": [
  {
   "cell_type": "code",
   "execution_count": 9,
   "id": "532947b3",
   "metadata": {},
   "outputs": [
    {
     "name": "stdout",
     "output_type": "stream",
     "text": [
      "     node_id         value Lane direction   \n",
      "0  an0005_r1  Towards West         closer  \\\n",
      "1  an0005_r2  Towards East           away   \n",
      "2  an0005_r3  Towards East         closer   \n",
      "3  an0005_r4  Towards West           away   \n",
      "\n",
      "   Lane closer or away from center of the road  \n",
      "0                                          NaN  \n",
      "1                                          NaN  \n",
      "2                                          NaN  \n",
      "3                                          NaN  \n"
     ]
    }
   ],
   "source": [
    "import pandas as pd\n",
    "from io import StringIO\n",
    "\n",
    "data = \"\"\"node_id,value,Lane direction,Lane closer or away from center of the road\n",
    "an0005_r1,Towards West,closer\n",
    "an0005_r2,Towards East,away\n",
    "an0005_r3,Towards East,closer\n",
    "an0005_r4,Towards West,away\"\"\"\n",
    "\n",
    "df = pd.read_csv(StringIO(data))\n",
    "print(df)"
   ]
  },
  {
   "cell_type": "code",
   "execution_count": 10,
   "id": "783ccb71",
   "metadata": {},
   "outputs": [
    {
     "name": "stdout",
     "output_type": "stream",
     "text": [
      "     node_id     direction lane_position\n",
      "0  an0005_r1  Towards West        closer\n",
      "1  an0005_r2  Towards East          away\n",
      "2  an0005_r3  Towards East        closer\n",
      "3  an0005_r4  Towards West          away\n"
     ]
    }
   ],
   "source": [
    "df.columns = ['node_id', 'direction', 'lane_position', 'lane_proximity']\n",
    "\n",
    "df = df.drop(columns=['lane_proximity'])\n",
    "print(df)"
   ]
  },
  {
   "cell_type": "code",
   "execution_count": 11,
   "id": "bef69608",
   "metadata": {
    "vscode": {
     "languageId": "javascript"
    }
   },
   "outputs": [
    {
     "name": "stdout",
     "output_type": "stream",
     "text": [
      "     node_id     direction lane_position detector_id\n",
      "0  an0005_r1  Towards West        closer      e2w_in\n",
      "1  an0005_r2  Towards East          away     w2e_out\n",
      "2  an0005_r3  Towards East        closer      w2e_in\n",
      "3  an0005_r4  Towards West          away     e2w_out\n"
     ]
    }
   ],
   "source": [
    "detector_id_mapping = {\n",
    "    'an0005_r1': 'e2w_in',\n",
    "    'an0005_r2': 'w2e_out',\n",
    "    'an0005_r3': 'w2e_in',\n",
    "    'an0005_r4': 'e2w_out'\n",
    "}\n",
    "\n",
    "df['detector_id'] = df['node_id'].map(detector_id_mapping)\n",
    "print(df)"
   ]
  },
  {
   "cell_type": "code",
   "execution_count": null,
   "id": "a6ec80a2",
   "metadata": {},
   "outputs": [],
   "source": []
  },
  {
   "cell_type": "code",
   "execution_count": 12,
   "id": "c8497aa5",
   "metadata": {},
   "outputs": [],
   "source": [
    "df.to_csv('sensor_info.csv', index=False)"
   ]
  },
  {
   "cell_type": "code",
   "execution_count": 13,
   "id": "6b6fef16",
   "metadata": {
    "vscode": {
     "languageId": "javascript"
    }
   },
   "outputs": [
    {
     "name": "stdout",
     "output_type": "stream",
     "text": [
      "  Location Label       Lat       Long\n",
      "0              A  59.31699  18.046622\n",
      "1              D  59.31623  18.040458\n"
     ]
    }
   ],
   "source": [
    "location_data = {\n",
    "    'Location Label': ['A', 'D'],\n",
    "    'Lat': [59.316990080716124, 59.316230070357484],\n",
    "    'Long': [18.04662213797746, 18.040457935127144]\n",
    "}\n",
    "\n",
    "location_df = pd.DataFrame(location_data)\n",
    "print(location_df)"
   ]
  },
  {
   "cell_type": "code",
   "execution_count": 14,
   "id": "5ea0c984",
   "metadata": {},
   "outputs": [],
   "source": [
    "location_df.to_csv('sensor_location.csv', index=False)"
   ]
  },
  {
   "cell_type": "code",
   "execution_count": null,
   "id": "805880d1",
   "metadata": {},
   "outputs": [],
   "source": []
  }
 ],
 "metadata": {
  "kernelspec": {
   "display_name": "base",
   "language": "python",
   "name": "python3"
  },
  "language_info": {
   "codemirror_mode": {
    "name": "ipython",
    "version": 3
   },
   "file_extension": ".py",
   "mimetype": "text/x-python",
   "name": "python",
   "nbconvert_exporter": "python",
   "pygments_lexer": "ipython3",
   "version": "3.10.12"
  }
 },
 "nbformat": 4,
 "nbformat_minor": 5
}
